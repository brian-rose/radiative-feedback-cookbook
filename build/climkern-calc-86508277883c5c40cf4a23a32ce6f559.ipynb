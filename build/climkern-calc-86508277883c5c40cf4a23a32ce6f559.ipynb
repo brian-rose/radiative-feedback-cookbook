{
 "cells": [
  {
   "cell_type": "markdown",
   "metadata": {},
   "source": [
    "# Feedbacks with ClimKern"
   ]
  },
  {
   "cell_type": "markdown",
   "metadata": {},
   "source": [
    "```{image} ../images/logos/ClimKern-logo.png\n",
    ":alt: ClimKern Python Package Logo\n",
    ":width: 250px\n",
    "```"
   ]
  },
  {
   "cell_type": "markdown",
   "metadata": {},
   "source": [
    "---"
   ]
  },
  {
   "cell_type": "markdown",
   "metadata": {},
   "source": [
    "## Overview\n",
    "\n",
    "While it is good to know how to manually calculate radiative feedbacks, it is also time-consuming to constantly recreate the code. Here, we will use a Python package called ClimKern {cite:p}`Janoski:2025a` that offers functions to calculate radiative feedbacks from climate model or reanalysis output. The advantages of using ClimKern go beyond making it simpler—it standardizes the methods and assumptions that go into these sometimes complicated calculations. We will use CMIP6 output in this notebook. You will learn how to:\n",
    "\n",
    "1. Download CMIP6 data from Pangeo's space on Google Cloud.\n",
    "1. Obtain a radiative kernel from the ClimKern repository.\n",
    "1. Calculate the surface albedo, temperature, and water vapor feedbacks.\n",
    "1. Compute the cloud feedbacks using the two main methods: residual and adjustment.\n",
    "1. Quantify stratospheric feedbacks."
   ]
  },
  {
   "cell_type": "markdown",
   "metadata": {},
   "source": [
    "## Prerequisites\n",
    "\n",
    "| Concepts | Importance | Notes |\n",
    "| --- | --- | --- |\n",
    "| [Intro to Xarray](https://foundations.projectpythia.org/core/xarray/xarray-intro) | Necessary | |\n",
    "| [Intro to Cartopy](https://foundations.projectpythia.org/core/cartopy/cartopy) | Necessary | |\n",
    "| [Intro to Matplotlib](https://foundations.projectpythia.org/core/matplotlib/matplotlib-basics) | Helpful | |\n",
    "| [Loading CMIP6 Data with Intake-ESM](https://projectpythia.org/cmip6-cookbook/notebooks/foundations/intake-esm) | Helpful | | \n",
    "\n",
    "- **Time to learn**: 20 minutes"
   ]
  },
  {
   "cell_type": "markdown",
   "metadata": {},
   "source": [
    "---"
   ]
  },
  {
   "cell_type": "markdown",
   "metadata": {},
   "source": [
    "## Imports"
   ]
  },
  {
   "cell_type": "code",
   "execution_count": null,
   "metadata": {},
   "outputs": [],
   "source": [
    "import climkern as ck\n",
    "import intake\n",
    "import matplotlib.pyplot as plt\n",
    "import s3fs\n",
    "import fsspec\n",
    "import xarray as xr\n",
    "import glob\n",
    "import importlib.util\n",
    "import os\n",
    "import cartopy.crs as ccrs\n",
    "\n",
    "%matplotlib inline\n",
    "plt.rcParams[\"figure.dpi\"] = 100"
   ]
  },
  {
   "cell_type": "markdown",
   "metadata": {},
   "source": [
    "## Download the kernel"
   ]
  },
  {
   "cell_type": "markdown",
   "metadata": {},
   "source": [
    "Normally, when ClimKern is installed, the user needs to download data on the command\n",
    "line from the Zenodo repository. However, we now have the data on Jetstream2, so\n",
    "we can download it from there and save it in our package repository.\n",
    "\n",
    ":::{note}\n",
    "Future versions of ClimKern will be able to pull the kernel from Jetstream2 without storing locally.\n",
    ":::\n",
    "\n",
    "First, set the URL and path to point to ClimKern. Also, specify which kernel you want."
   ]
  },
  {
   "cell_type": "code",
   "execution_count": null,
   "metadata": {},
   "outputs": [],
   "source": [
    "URL = \"https://js2.jetstream-cloud.org:8001/\" # URL for jetstream access\n",
    "path = f\"pythia/ClimKern\" # Location of ClimKern\n",
    "kernel = \"ERA5\""
   ]
  },
  {
   "cell_type": "markdown",
   "metadata": {},
   "source": [
    "Next, read in the data from Jetstream2"
   ]
  },
  {
   "cell_type": "code",
   "execution_count": null,
   "metadata": {},
   "outputs": [],
   "source": [
    "# Read in data\n",
    "# Set up access to jetstream2\n",
    "fs = fsspec.filesystem(\"s3\", anon=True, client_kwargs=dict(endpoint_url=URL))\n",
    "pattern = f\"s3://{path}/kernels/\"+kernel+f\"/TOA*.nc\"\n",
    "\n",
    "# Grab the data\n",
    "files = sorted(fs.glob(pattern))\n",
    "fs.invalidate_cache() # This is necessary to deal with peculiarities of objects served from jetstream2\n",
    "\n",
    "# Open file and make it Xarray Dataset\n",
    "kern = xr.open_dataset(fs.open(files[0]))\n",
    "\n",
    "# Save path for later\n",
    "path_out = files[0].split(kernel+\"/\",1)[1]"
   ]
  },
  {
   "cell_type": "markdown",
   "metadata": {},
   "source": [
    "To save this data in ClimKern's directory, we have to figure out where it is on the\n",
    "machine. After that, we will go ahead and save out the kernel as a netCDF in \n",
    "ClimKern's local data directory."
   ]
  },
  {
   "cell_type": "code",
   "execution_count": null,
   "metadata": {},
   "outputs": [],
   "source": [
    "# Get the package location\n",
    "spec = importlib.util.find_spec(\"climkern\")\n",
    "package_dir = os.path.dirname(spec.origin)\n",
    "\n",
    "# print(f\"The package directory is: {package_dir}\")\n",
    "\n",
    "# Define the path where you want to save the netCDF file within the package directory\n",
    "netcdf_path = os.path.join(package_dir,\"data/kernels\",kernel,path_out)\n",
    "\n",
    "# Ensure the directory exists\n",
    "os.makedirs(os.path.dirname(netcdf_path), exist_ok=True)\n",
    "\n",
    "# Save the dataset as a netCDF file\n",
    "kern.to_netcdf(netcdf_path)"
   ]
  },
  {
   "cell_type": "markdown",
   "metadata": {},
   "source": [
    "Now, let's just make sure we can retrieve the kernel."
   ]
  },
  {
   "cell_type": "code",
   "execution_count": null,
   "metadata": {},
   "outputs": [],
   "source": [
    "ck.util.get_kern(kernel)"
   ]
  },
  {
   "cell_type": "markdown",
   "metadata": {},
   "source": [
    "## Prepare the CMIP6 Data"
   ]
  },
  {
   "cell_type": "markdown",
   "metadata": {},
   "source": [
    "To start, we will need some CMIP6 data to calculate feedbacks. We will use the\n",
    "preindustrial control and 4×CO$_2$ experiments from just one model (CESM2)."
   ]
  },
  {
   "cell_type": "code",
   "execution_count": null,
   "metadata": {},
   "outputs": [],
   "source": [
    "# Make a list of variables and experiments we need\n",
    "var_list = [\"rsds\",\"rsus\",\"ta\",\"ts\",\"ps\",\"hus\"]\n",
    "exp_list = [\"piControl\",\"abrupt-4xCO2\"]\n",
    "\n",
    "# Specify data location, open it\n",
    "cat_url = \"https://storage.googleapis.com/cmip6/pangeo-cmip6.json\"\n",
    "col = intake.open_esm_datastore(cat_url)\n",
    "\n",
    "# Create a catalog of matching simulations\n",
    "cat = col.search(experiment_id=exp_list,source_id=\"CESM2\",variable_id=var_list,\n",
    "                table_id=\"Amon\")\n",
    "\n",
    "# Convert to a dictionary of Xarray Datasets\n",
    "ds_dict = cat.to_dataset_dict(zarr_kwargs={'consolidated': True})"
   ]
  },
  {
   "cell_type": "markdown",
   "metadata": {},
   "source": [
    "The data, especially the preindustrial control simulation that will serve as our\n",
    "control climate, is huge. We are going to only use the last 50 years of the control\n",
    "and last 30 years of the abrupt 4×CO$_2$ simulation. There are a few extra coordinates\n",
    "and/or dimensions we don't need, hence the `squeeze()`."
   ]
  },
  {
   "cell_type": "code",
   "execution_count": null,
   "metadata": {},
   "outputs": [],
   "source": [
    "# Our control simulation\n",
    "ctrl = ds_dict[\"CMIP.NCAR.CESM2.piControl.Amon.gn\"].isel(\n",
    "    time=slice(-600,None)).squeeze().compute()\n",
    "\n",
    "# The increase CO2 aka \"perturbed\" simulation\n",
    "pert = ds_dict[\"CMIP.NCAR.CESM2.abrupt-4xCO2.Amon.gn\"].isel(\n",
    "    time=slice(-360,None)).squeeze().compute()"
   ]
  },
  {
   "cell_type": "markdown",
   "metadata": {},
   "source": [
    "To save a little diskspace because ClimKern still isn't dask compatible yet,\n",
    "let's make our control climatology ahead of time."
   ]
  },
  {
   "cell_type": "code",
   "execution_count": null,
   "metadata": {},
   "outputs": [],
   "source": [
    "ctrl = ctrl.groupby(ctrl.time.dt.month).mean(dim=\"time\").rename({\"month\":\"time\"})\n",
    "pert = pert.groupby(pert.time.dt.month).mean(dim=\"time\").rename({\"month\":\"time\"})"
   ]
  },
  {
   "cell_type": "markdown",
   "metadata": {},
   "source": [
    "## Feedback calculations"
   ]
  },
  {
   "cell_type": "markdown",
   "metadata": {},
   "source": [
    "### Calculate surface temperature change"
   ]
  },
  {
   "cell_type": "markdown",
   "metadata": {},
   "source": [
    "ClimKern outputs feedbacks as radiative perturbations at the TOA (because there are multiple ways to quantify feedbacks). One of the most common ways is to normalize by the change in the surface temperature, which puts values in \"true\" feedback units of W/m$^2$/K. For that, we start by calculating the change in the surface temperature in our CESM2 experiment."
   ]
  },
  {
   "cell_type": "code",
   "execution_count": null,
   "metadata": {},
   "outputs": [],
   "source": [
    "# Take difference between pert and ctrl ts fields\n",
    "Δts = pert.ts - ctrl.ts"
   ]
  },
  {
   "cell_type": "markdown",
   "metadata": {},
   "source": [
    "### Surface albedo feedback"
   ]
  },
  {
   "cell_type": "markdown",
   "metadata": {},
   "source": [
    "Perhaps the simplest of the radiative feedbacks to calculate is the surface albedo\n",
    "feedback because it requires only two variables and is a 3-dimensional field (no height\n",
    "coordinate). The variables we will use are as follows:\n",
    "\n",
    "| Variable name | Description | Units |\n",
    "| --- | --- | --- |\n",
    "|<i>rsus</i> | The upwelling shortwave radiation at the surface | W/m$^2$ |\n",
    "|<i>rsds</i> | The downwelling shortwave radiation at the surface | W/m$^2$ |\n",
    "\n",
    "\n",
    "The [`calc_alb_feedback()`](https://tyfolino.github.io/climkern/climkern.html#climkern.calc_alb_feedback) function is straightforward. Be sure to include our kernel name\n",
    "in the arguments."
   ]
  },
  {
   "cell_type": "code",
   "execution_count": null,
   "metadata": {},
   "outputs": [],
   "source": [
    "alb = ck.calc_alb_feedback(\n",
    "    ctrl.rsus,ctrl.rsds,pert.rsus,pert.rsds,kern=\"ERA5\"\n",
    ")"
   ]
  },
  {
   "cell_type": "markdown",
   "metadata": {},
   "source": [
    "Let's see what the resulting Dataarray looks like."
   ]
  },
  {
   "cell_type": "code",
   "execution_count": null,
   "metadata": {},
   "outputs": [],
   "source": [
    "alb"
   ]
  },
  {
   "cell_type": "markdown",
   "metadata": {},
   "source": [
    "This function allows for the quick creation of a pre-configured map, eliminating the need to repeat setup code by setting up the figure, axes, and Cartopy Robinson projection."
   ]
  },
  {
   "cell_type": "code",
   "execution_count": null,
   "metadata": {},
   "outputs": [],
   "source": [
    "def base_map():\n",
    "    proj= ccrs.Robinson()  #select Robinson projection\n",
    "\n",
    "    fig, ax = plt.subplots(subplot_kw=dict(projection=proj)) #Create the figure and axis \n",
    " \n",
    "    ax.coastlines() # Add coastlines\n",
    "\n",
    "    return fig, ax\n",
    "\n"
   ]
  },
  {
   "cell_type": "markdown",
   "metadata": {},
   "source": [
    "Similar to the function above, these dictionaries encapsulate the repetitive code setup and provide a set of reusable arguments to simplify the plotting of data onto this map. "
   ]
  },
  {
   "cell_type": "code",
   "execution_count": null,
   "metadata": {},
   "outputs": [],
   "source": [
    "plotargs = {'transform': ccrs.PlateCarree(),\n",
    "            'cbar_kwargs': {\"orientation\": \"horizontal\", \"shrink\": 0.7, \n",
    "                            \"label\":\"W/m$^2$\"}\n",
    "            }"
   ]
  },
  {
   "cell_type": "code",
   "execution_count": null,
   "metadata": {},
   "outputs": [],
   "source": [
    "plotargs_2 = {'transform': ccrs.PlateCarree(),\n",
    "            'cbar_kwargs': {\"orientation\": \"horizontal\", \"shrink\": 0.7,\n",
    "                           \"label\":\"W/m$^2$/K\"}\n",
    "            }"
   ]
  },
  {
   "cell_type": "markdown",
   "metadata": {},
   "source": [
    "Finally, let's plot the time average surface albedo feedback on a map, first as just the perturbation."
   ]
  },
  {
   "cell_type": "code",
   "execution_count": null,
   "metadata": {},
   "outputs": [],
   "source": [
    "# Create the base map\n",
    "fig, ax = base_map()\n",
    "\n",
    "# Plot the surface albedo feedback \n",
    "alb.mean(dim=\"time\").plot(ax=ax, **plotargs)\n",
    "\n",
    "# Add a title\n",
    "ax.set_title(\"Time-averaged Surface Albedo Feedback\");"
   ]
  },
  {
   "cell_type": "markdown",
   "metadata": {},
   "source": [
    "Now normalized by the surface temperature change..."
   ]
  },
  {
   "cell_type": "code",
   "execution_count": null,
   "metadata": {},
   "outputs": [],
   "source": [
    "# Create the base map\n",
    "fig, ax = base_map()\n",
    "\n",
    "# Plot surface albedo feedback & add coastlines\n",
    "(alb.mean(dim=\"time\")/Δts.mean(dim=\"time\")).plot(ax=ax, **plotargs_2)\n",
    "\n",
    "# Add a title\n",
    "ax.set_title(\"Time-averaged Surface Albedo Feedback\");"
   ]
  },
  {
   "cell_type": "markdown",
   "metadata": {},
   "source": [
    "As one might expect, the greatest radiative change at the TOA from the surface albedo feedback is near the poles where there is melting sea ice and snow.\n",
    "\n",
    "Let's end by calculating the global average. ClimKern comes with a [`spat_avg()`](https://tyfolino.github.io/climkern/climkern.html#climkern.spat_avg) function."
   ]
  },
  {
   "cell_type": "code",
   "execution_count": null,
   "metadata": {},
   "outputs": [],
   "source": [
    "# Output the time-averaged global surface albedo feedback\n",
    "output = \"The global average surface albedo feedback is {value:.2f} W/m\\u00b2/K.\"\n",
    "print(output.format(value=float(ck.spat_avg((alb.mean(dim=\"time\")/Δts.mean(dim=\"time\")\n",
    "                                         ).expand_dims(\"time\")))))"
   ]
  },
  {
   "cell_type": "markdown",
   "metadata": {},
   "source": [
    "### Planck and lapse rate feedbacks"
   ]
  },
  {
   "cell_type": "markdown",
   "metadata": {},
   "source": [
    "As a reminder, the total tropospheric temperature feedback is often decomposed into a distict Planck and lapse rate feedback. ClimKern has a single function that produces both feedbacks simultaneously called [`calc_T_feedbacks()`](https://tyfolino.github.io/climkern/climkern.html#climkern.calc_T_feedbacks). The variables we need this time are:\n",
    "\n",
    "| Variable name | Description | Units | Notes |\n",
    "| --- | --- | --- | --- |\n",
    "|<i>ta</i> | The 4-dimensional air temperature | K | |\n",
    "|<i>ts</i> | The 3-dimensional surface skin temperature | K | |\n",
    "|<i>ps</i> | The 3-dimensional surface pressure | Pa, mb, or hPa| |\n",
    "|<i>trop_p</i> | The 3-dimensional tropopause height | Pa, mb, or hPa | <i>Optional</i> |\n",
    "\n",
    "CMIP6 output rarely contains the tropopause height, so we will create a default tropopause that decreases linearly with the cosine of latitude from 100 hPa at the Equator to 300 hPa at the poles."
   ]
  },
  {
   "cell_type": "code",
   "execution_count": null,
   "metadata": {},
   "outputs": [],
   "source": [
    "# Use ClimKern's \"hidden\" make_tropo function\n",
    "pert[\"trop_p\"] = ck.util.make_tropo(pert.ps)\n",
    "pert.trop_p.attrs[\"units\"] = \"Pa\"\n",
    "\n",
    "lr,pl = ck.calc_T_feedbacks(\n",
    "    ctrl.ta,ctrl.ts,ctrl.ps,pert.ta,pert.ts,pert.ps,pert_trop=pert.trop_p,kern=\"ERA5\"\n",
    ")"
   ]
  },
  {
   "cell_type": "markdown",
   "metadata": {},
   "source": [
    "Simple. Let's see what it looks like."
   ]
  },
  {
   "cell_type": "code",
   "execution_count": null,
   "metadata": {},
   "outputs": [],
   "source": [
    "# Create the base map\n",
    "fig, ax = base_map()\n",
    "\n",
    "# Plot the surface albedo feedback \n",
    "lr.mean(dim=\"time\").plot(ax=ax, **plotargs)\n",
    "\n",
    "# Add a title\n",
    "ax.set_title(\"Time-averaged Lapse Rate Feedback\");"
   ]
  },
  {
   "cell_type": "code",
   "execution_count": null,
   "metadata": {},
   "outputs": [],
   "source": [
    "# Create the base map\n",
    "fig, ax = base_map()\n",
    "\n",
    "# Plot surface albedo feedback\n",
    "(lr.mean(dim=\"time\")/Δts.mean(dim=\"time\")).plot(ax=ax, **plotargs_2)\n",
    "\n",
    "# Add a title\n",
    "ax.set_title(\"Time-averaged Lapse Rate Feedback\");"
   ]
  },
  {
   "cell_type": "code",
   "execution_count": null,
   "metadata": {},
   "outputs": [],
   "source": [
    "# Create the base map\n",
    "fig, ax = base_map()\n",
    "\n",
    "# Plot surface albedo feedback\n",
    "pl.mean(dim=\"time\").plot(ax=ax, cmap=\"Blues_r\", **plotargs)\n",
    "\n",
    "# Add a title\n",
    "ax.set_title(\"Time-averaged Planck Feedback\");"
   ]
  },
  {
   "cell_type": "code",
   "execution_count": null,
   "metadata": {},
   "outputs": [],
   "source": [
    "# Create the base map\n",
    "fig, ax = base_map()\n",
    "\n",
    "# Plot surface albedo feedback\n",
    "(pl.mean(dim=\"time\")/Δts.mean(dim=\"time\")).plot(ax=ax,cmap=\"Blues_r\", **plotargs_2)\n",
    "\n",
    "# Add a title\n",
    "ax.set_title(\"Time-averaged Planck Feedback\");"
   ]
  },
  {
   "cell_type": "markdown",
   "metadata": {},
   "source": [
    "These results seem reasonable. The Planck feedback is often the feedback with the largest magnitude and scales nonlinearly with temperature change. The lapse rate feedback changes sign depending on the vertical structure of the atmosphere is usually positive (warming) at the poles and negative (cooling) in the tropics.\n",
    "\n",
    "Let's get those global averages again!"
   ]
  },
  {
   "cell_type": "code",
   "execution_count": null,
   "metadata": {},
   "outputs": [],
   "source": [
    "# Output the time-averaged global temperature feedbacks\n",
    "output = (\"The global average lapse rate and Planck feedbacks are\"+\n",
    "          \" {lr:.2f} and {pl:.2f} W/m\\u00b2/K, respectively.\")\n",
    "print(output.format(lr=float(ck.spat_avg((lr.mean(dim=\"time\")/Δts.mean(dim=\"time\")\n",
    "                                         ).expand_dims(\"time\"))),\n",
    "                   pl=float(ck.spat_avg((pl.mean(dim=\"time\")/Δts.mean(dim=\"time\")\n",
    "                                        ).expand_dims(\"time\")))))"
   ]
  },
  {
   "cell_type": "markdown",
   "metadata": {},
   "source": [
    "### Water vapor feedbacks"
   ]
  },
  {
   "cell_type": "markdown",
   "metadata": {},
   "source": [
    "Here we use ClimKern to calculate the longwave and shortwave water vapor feedabcks. ClimKern has a single function that produces both called [`calc_q_feedbacks()`](https://tyfolino.github.io/climkern/climkern.html#climkern.calc_q_feedbacks). This function requires both the specific humidity and air temperature because ClimKern has to normalize the water vapor kernels to make them compatible with the specific humidity.\n",
    "\n",
    "| Variable name | Description | Units | Notes |\n",
    "| --- | --- | --- | --- |\n",
    "|<i>hus</i> | The 4-dimensional specific humidity | $\\frac{g}{g}$ or $\\frac{g}{kg}$ | |\n",
    "|<i>ta</i> | The 4-dimensional air temperature | K | |\n",
    "|<i>ps</i> | The 3-dimensional surface pressure | Pa, mb, or hPa| |\n",
    "|<i>trop_p</i> | The 3-dimensional tropopause height | Pa, mb, or hPa | <i>Optional</i> |\n",
    "\n",
    "There is one more argument we can provide called `method`, which is simply a number 1-4. This corresponds to whether to use a fractional approximation for logarithms, use the logarithms explicitly, or use the linear change in water vapor concentration. See the discussion in Section 3.2 of {cite:t}`Janoski:2025a`, and see [here in the climkern docs](https://tyfolino.github.io/climkern/climkern.html#climkern.calc_q_feedbacks) for how these are implemented. \n",
    "\n",
    "We will use `method=1` which is to use the natural logarithm of specific humidity without doing a fractional approximation.\n",
    "\n",
    "We will use the same tropopause height as before."
   ]
  },
  {
   "cell_type": "code",
   "execution_count": null,
   "metadata": {},
   "outputs": [],
   "source": [
    "# Use ClimKern's water vapor feedback function\n",
    "qlw,qsw = ck.calc_q_feedbacks(\n",
    "    ctrl.hus,ctrl.ta,ctrl.ps,pert.hus,pert.ps,pert_trop=pert.trop_p,kern=\"ERA5\",\n",
    "    method=1\n",
    ")"
   ]
  },
  {
   "cell_type": "markdown",
   "metadata": {},
   "source": [
    "Let's take a look, starting with the longwave."
   ]
  },
  {
   "cell_type": "code",
   "execution_count": null,
   "metadata": {},
   "outputs": [],
   "source": [
    "# Create the base map\n",
    "fig, ax = base_map()\n",
    "\n",
    "# Plot the longwave water vapor feedback\n",
    "qlw.mean(dim=\"time\").plot(ax=ax,cmap=\"Reds\", **plotargs)\n",
    "\n",
    "# Add a title\n",
    "ax.set_title(\"Time-averaged LW Water Vapor Feedback\");"
   ]
  },
  {
   "cell_type": "code",
   "execution_count": null,
   "metadata": {},
   "outputs": [],
   "source": [
    "# Create the base map\n",
    "fig, ax = base_map()\n",
    "\n",
    "# Plot the longwave water vapor feedback \n",
    "(qlw.mean(dim=\"time\")/Δts.mean(dim=\"time\")).plot(ax=ax,cmap=\"Reds\", **plotargs_2)\n",
    "ax.coastlines()\n",
    "\n",
    "# Add a title\n",
    "ax.set_title(\"Time-averaged LW Water Vapor Feedback\");"
   ]
  },
  {
   "cell_type": "markdown",
   "metadata": {},
   "source": [
    "And now the shortwave..."
   ]
  },
  {
   "cell_type": "code",
   "execution_count": null,
   "metadata": {},
   "outputs": [],
   "source": [
    "# Create the base map\n",
    "fig, ax = base_map()\n",
    "\n",
    "# Plot the longwave water vapor feedback and add coastlines\n",
    "qsw.mean(dim=\"time\").plot(ax=ax,cmap=\"Reds\", **plotargs)\n",
    "\n",
    "\n",
    "# Add a title\n",
    "ax.set_title(\"Time-averaged SW Water Vapor Feedback\");"
   ]
  },
  {
   "cell_type": "code",
   "execution_count": null,
   "metadata": {},
   "outputs": [],
   "source": [
    "# Create the base map\n",
    "fig, ax = base_map()\n",
    "\n",
    "# Plot the longwave water vapor feedback and add coastlines\n",
    "(qsw.mean(dim=\"time\")/Δts.mean(dim=\"time\")).plot(ax=ax,cmap=\"Reds\", **plotargs_2)\n",
    "\n",
    "# Add a title\n",
    "ax.set_title(\"Time-averaged SW Water Vapor Feedback\");"
   ]
  },
  {
   "cell_type": "code",
   "execution_count": null,
   "metadata": {},
   "outputs": [],
   "source": [
    "# Output the time-averaged global surface albedo feedback\n",
    "output = (\"The global average longwave and shortwave water vapor feedbacks are\"+\n",
    "          \" {lw:.2f} and {sw:.2f} W/m\\u00b2/K, respectively.\")\n",
    "print(output.format(lw=float(ck.spat_avg((qlw.mean(dim=\"time\")/Δts.mean(dim=\"time\")\n",
    "                                         ).expand_dims(\"time\"))),\n",
    "                   sw=float(ck.spat_avg((qsw.mean(dim=\"time\")/Δts.mean(dim=\"time\")\n",
    "                                        ).expand_dims(\"time\")))))"
   ]
  },
  {
   "cell_type": "markdown",
   "metadata": {},
   "source": [
    "### Cloud feedbacks"
   ]
  },
  {
   "cell_type": "markdown",
   "metadata": {},
   "source": [
    "#### Download radiative forcing"
   ]
  },
  {
   "cell_type": "markdown",
   "metadata": {},
   "source": [
    "It's time for cloud feedbacks. However, like anything to do with clouds, there are some complications. You ideally need the effective radiative forcing (ERF), which is a measure of radiative imbalance imposed by CO$_2$ in the absence of surface temperature change [Smith et al., 2020](https://doi.org/10.5194/acp-20-9591-2020). Thankfully, CESM2 radiative forcing for our scenarios is available on the Google cloud."
   ]
  },
  {
   "cell_type": "code",
   "execution_count": null,
   "metadata": {},
   "outputs": [],
   "source": [
    "# Specify data location, open it\n",
    "cat_url = \"https://storage.googleapis.com/cmip6/pangeo-cmip6.json\"\n",
    "col = intake.open_esm_datastore(cat_url)\n",
    "\n",
    "# # Create a catalog of matching simulations\n",
    "cat = col.search(activity_id=\"RFMIP\",source_id=\"CESM2\",experiment_id=[\"piClim-4xCO2\",\n",
    "                                                                      \"piClim-control\"],\n",
    "                variable_id=[\"rlut\",\"rsut\",\"rsdt\"])\n",
    "\n",
    "# Convert to a dictionary of Xarray Datasets\n",
    "ds_dict = cat.to_dataset_dict(zarr_kwargs={'consolidated': True})\n",
    "\n",
    "# Assign Datasets to variables\n",
    "rf_ctrl = ds_dict[\"RFMIP.NCAR.CESM2.piClim-control.Amon.gn\"]\n",
    "rf_pert = ds_dict[\"RFMIP.NCAR.CESM2.piClim-4xCO2.Amon.gn\"]"
   ]
  },
  {
   "cell_type": "markdown",
   "metadata": {},
   "source": [
    "<div class=\"admonition alert alert-info\">\n",
    "    <p class=\"admonition-title\" style=\"font-weight:bold\">Info</p>\n",
    "    Your relevant information here!\n",
    "</div>"
   ]
  },
  {
   "cell_type": "markdown",
   "metadata": {},
   "source": [
    "Feel free to copy this around and edit or play around with yourself. Some other `admonitions` you can put in:"
   ]
  },
  {
   "cell_type": "markdown",
   "metadata": {},
   "source": [
    "<div class=\"admonition alert alert-success\">\n",
    "    <p class=\"admonition-title\" style=\"font-weight:bold\">Success</p>\n",
    "    We got this done after all!\n",
    "</div>"
   ]
  },
  {
   "cell_type": "markdown",
   "metadata": {},
   "source": [
    "<div class=\"admonition alert alert-warning\">\n",
    "    <p class=\"admonition-title\" style=\"font-weight:bold\">Warning</p>\n",
    "    Be careful!\n",
    "</div>"
   ]
  },
  {
   "cell_type": "markdown",
   "metadata": {},
   "source": [
    "<div class=\"admonition alert alert-danger\">\n",
    "    <p class=\"admonition-title\" style=\"font-weight:bold\">Danger</p>\n",
    "    Scary stuff be here.\n",
    "</div>"
   ]
  },
  {
   "cell_type": "markdown",
   "metadata": {},
   "source": [
    "We also suggest checking out Jupyter Book's [brief demonstration](https://jupyterbook.org/content/metadata.html#jupyter-cell-tags) on adding cell tags to your cells in Jupyter Notebook, Lab, or manually. Using these cell tags can allow you to [customize](https://jupyterbook.org/interactive/hiding.html) how your code content is displayed and even [demonstrate errors](https://jupyterbook.org/content/execute.html#dealing-with-code-that-raises-errors) without altogether crashing our loyal army of machines!"
   ]
  },
  {
   "cell_type": "markdown",
   "metadata": {},
   "source": [
    "---"
   ]
  }
 ],
 "metadata": {
  "kernelspec": {
   "display_name": "Python 3 (ipykernel)",
   "language": "python",
   "name": "python3"
  },
  "language_info": {
   "codemirror_mode": {
    "name": "ipython",
    "version": 3
   },
   "file_extension": ".py",
   "mimetype": "text/x-python",
   "name": "python",
   "nbconvert_exporter": "python",
   "pygments_lexer": "ipython3",
   "version": "3.13.5"
  },
  "nbdime-conflicts": {
   "local_diff": [
    {
     "diff": [
      {
       "diff": [
        {
         "key": 0,
         "op": "addrange",
         "valuelist": [
          "Python 3"
         ]
        },
        {
         "key": 0,
         "length": 1,
         "op": "removerange"
        }
       ],
       "key": "display_name",
       "op": "patch"
      }
     ],
     "key": "kernelspec",
     "op": "patch"
    }
   ],
   "remote_diff": [
    {
     "diff": [
      {
       "diff": [
        {
         "key": 0,
         "op": "addrange",
         "valuelist": [
          "Python3"
         ]
        },
        {
         "key": 0,
         "length": 1,
         "op": "removerange"
        }
       ],
       "key": "display_name",
       "op": "patch"
      }
     ],
     "key": "kernelspec",
     "op": "patch"
    }
   ]
  },
  "toc-autonumbering": false
 },
 "nbformat": 4,
 "nbformat_minor": 4
}
