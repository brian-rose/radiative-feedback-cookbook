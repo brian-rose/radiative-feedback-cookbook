{
 "cells": [
  {
   "cell_type": "markdown",
   "metadata": {},
   "source": [
    "# Feedback analysis using radiative kernels\n",
    "\n",
    "```{image} ../images/ProjectPythia_Logo_Final-01-Blue.svg\n",
    ":alt: Project Pythia Logo\n",
    ":width: 250px\n",
    "```"
   ]
  },
  {
   "cell_type": "markdown",
   "metadata": {},
   "source": [
    "---"
   ]
  },
  {
   "cell_type": "markdown",
   "metadata": {},
   "source": [
    "## Overview\n",
    "\n",
    "This notebook details the steps required to perform a radiative kernel analysis."
   ]
  },
  {
   "cell_type": "markdown",
   "metadata": {},
   "source": [
    "## Prerequisites\n",
    "\n",
    "| Concepts | Importance | Notes |\n",
    "| --- | --- | --- |\n",
    "| [Loading CMIP6 data with Intake-ESM](https://projectpythia.org/cmip6-cookbook/notebooks/foundations/intake-esm) | Helpful | |\n",
    "| [Intro to Xarray](https://foundations.projectpythia.org/core/xarray/xarray-intro) | Necessary |  |\n",
    "\n",
    "- **Time to learn**: 60 minutes"
   ]
  },
  {
   "cell_type": "markdown",
   "metadata": {},
   "source": [
    "---"
   ]
  },
  {
   "cell_type": "markdown",
   "metadata": {},
   "source": [
    "## Imports"
   ]
  },
  {
   "cell_type": "code",
   "execution_count": null,
   "metadata": {},
   "outputs": [],
   "source": [
    "import xarray as xr\n",
    "import numpy as np\n",
    "import matplotlib.pyplot as plt\n",
    "from matplotlib.colors import CenteredNorm\n",
    "import cartopy.crs as ccrs\n",
    "import xesmf as xe\n",
    "import intake\n",
    "import s3fs\n",
    "import fsspec\n",
    "import glob"
   ]
  },
  {
   "cell_type": "markdown",
   "metadata": {},
   "source": [
    "## Loading in required data"
   ]
  },
  {
   "cell_type": "markdown",
   "metadata": {},
   "source": [
    "### Climate model output\n",
    "\n",
    "In this example, we will perform the analysis on a single model from the CMIP6 ensemble, CESM2. The simplest way to calculate feedbacks is to take differences between two climate states, as opposed to regressions. Here we use runs with:\n",
    "- preindustrial conditions (`piControl`) as the control climate\n",
    "- instantaneously quadrupled CO$_2$ (`abrupt-4xCO2`) as the perturbed climate\n",
    "\n",
    "We will use CMIP6 data hosted on Pangeo's Google Cloud Storage:"
   ]
  },
  {
   "cell_type": "code",
   "execution_count": null,
   "metadata": {},
   "outputs": [],
   "source": [
    "cat_url = 'https://storage.googleapis.com/cmip6/pangeo-cmip6.json'\n",
    "col = intake.open_esm_datastore(cat_url)"
   ]
  },
  {
   "cell_type": "markdown",
   "metadata": {},
   "source": [
    "The fields (and CMIP names) required to calculate each feedback are:\n",
    "- Albedo: upwelling and downwelling SW radiation at the surface (`rsus` and `rsds`)\n",
    "- Temperature (Planck and lapse rate): air temperature (`ta`) and surface temperature (`ts`)\n",
    "- Water vapor: specific humidity (`hus`) and air temperature\n",
    "- SW CRE: Net SW radiation at TOA (down `rsdt` minus up `rsut`) and clear-sky versions (down, which is the same, minus up `rsutcs`)\n",
    "- LW CRE: Net LW radiation at TOA (`rlut`) and the clear-sky version (`rlutcs`)\n",
    "\n",
    "The cloud feedbacks require the results from the other feedbacks to correct for noncloud contributions to the CREs.\n",
    "\n",
    "We will also need near-surface air temperature (`tas`) for calculating the change in global mean surface temperature (GMST)."
   ]
  },
  {
   "cell_type": "code",
   "execution_count": null,
   "metadata": {
    "scrolled": true
   },
   "outputs": [],
   "source": [
    "cat = col.search(activity_id='CMIP', experiment_id=['piControl', 'abrupt-4xCO2'], table_id='Amon', source_id='CESM2', \n",
    "                 variable_id=['rsus', 'rsds', 'ta', 'ts', 'hus', 'rsdt', 'rsut', 'rsutcs', 'rlut', 'rlutcs', 'tas'])\n",
    "cat.df"
   ]
  },
  {
   "cell_type": "code",
   "execution_count": null,
   "metadata": {},
   "outputs": [],
   "source": [
    "dset_dict = cat.to_dataset_dict(zarr_kwargs={'consolidated': True})"
   ]
  },
  {
   "cell_type": "code",
   "execution_count": null,
   "metadata": {},
   "outputs": [],
   "source": [
    "ctrl = dset_dict['CMIP.NCAR.CESM2.piControl.Amon.gn']"
   ]
  },
  {
   "cell_type": "code",
   "execution_count": null,
   "metadata": {},
   "outputs": [],
   "source": [
    "ctrl"
   ]
  },
  {
   "cell_type": "code",
   "execution_count": null,
   "metadata": {},
   "outputs": [],
   "source": [
    "pert = dset_dict['CMIP.NCAR.CESM2.abrupt-4xCO2.Amon.gn']"
   ]
  },
  {
   "cell_type": "code",
   "execution_count": null,
   "metadata": {},
   "outputs": [],
   "source": [
    "pert"
   ]
  },
  {
   "cell_type": "markdown",
   "metadata": {},
   "source": [
    "### Radiative forcing data\n",
    "\n",
    "To calculate the cloud feedback, we will need the effective radiative forcing (ERF) resulting from 4xCO2, which we can find under another project, RFMIP:"
   ]
  },
  {
   "cell_type": "code",
   "execution_count": null,
   "metadata": {},
   "outputs": [],
   "source": [
    "rf_cat = col.search(activity_id='RFMIP', experiment_id='piClim-4xCO2', source_id='CESM2')\n",
    "rf_cat.df"
   ]
  },
  {
   "cell_type": "code",
   "execution_count": null,
   "metadata": {},
   "outputs": [],
   "source": [
    "rf_dset_dict = rf_cat.to_dataset_dict(zarr_kwargs={'consolidated': True})"
   ]
  },
  {
   "cell_type": "code",
   "execution_count": null,
   "metadata": {},
   "outputs": [],
   "source": [
    "forcing = rf_dset_dict['RFMIP.NCAR.CESM2.piClim-4xCO2.Amon.gn']\n",
    "forcing"
   ]
  },
  {
   "cell_type": "markdown",
   "metadata": {},
   "source": [
    "### Radiative kernels\n",
    "\n",
    "We will load in radiative kernels from Project Pythia's storage on JetStream2. We will be using the ERA5 kernels [(Huang & Huang 2023)](https://essd.copernicus.org/articles/15/3001/2023/)."
   ]
  },
  {
   "cell_type": "code",
   "execution_count": null,
   "metadata": {},
   "outputs": [],
   "source": [
    "URL = 'https://js2.jetstream-cloud.org:8001/'\n",
    "path = f'pythia/ClimKern'\n",
    "fs = fsspec.filesystem(\"s3\", anon=True, client_kwargs=dict(endpoint_url=URL))\n",
    "patternKern = f's3://{path}/kernels/ERA5/*.nc'\n",
    "patternTutorial = f's3://{path}/tutorial_data/*.nc'\n",
    "filesKern = sorted(fs.glob(patternKern))\n",
    "filesTutorial = sorted(fs.glob(patternTutorial))\n",
    "fs.invalidate_cache() # This is necessary to deal with peculiarities of objects served from jetstream2\n",
    "filesetKern = [fs.open(file) for file in filesKern[0:2]]\n",
    "filesetTutorial = [fs.open(file) for file in filesKern[0:2]]"
   ]
  },
  {
   "cell_type": "markdown",
   "metadata": {},
   "source": [
    "We will use the more common TOA kernels."
   ]
  },
  {
   "cell_type": "code",
   "execution_count": null,
   "metadata": {},
   "outputs": [],
   "source": [
    "filesKern"
   ]
  },
  {
   "cell_type": "markdown",
   "metadata": {},
   "source": [
    "As we will see in a moment, the naming convention for months as calculated from Xarray's `.groupby()` method (\"month\", 1-12) is different from what is used in the kernel dataset (\"time\", 0-11), so we need to align them:"
   ]
  },
  {
   "cell_type": "code",
   "execution_count": null,
   "metadata": {},
   "outputs": [],
   "source": [
    "data_kern = xr.open_dataset(filesetKern[1])\n",
    "data_kern['time'] = data_kern['time'] + 1\n",
    "data_kern = data_kern.rename({'time': 'month'})\n",
    "data_kern"
   ]
  },
  {
   "cell_type": "markdown",
   "metadata": {},
   "source": [
    "Let's take a look at some of these kernels. First, the albedo kernel, annually averaged:"
   ]
  },
  {
   "cell_type": "code",
   "execution_count": null,
   "metadata": {},
   "outputs": [],
   "source": [
    "data_kern.sw_a.mean(dim='month').plot.contourf(levels=20)"
   ]
  },
  {
   "cell_type": "markdown",
   "metadata": {},
   "source": [
    "And the LW water vapor kernel, annually and zonally averaged:"
   ]
  },
  {
   "cell_type": "code",
   "execution_count": null,
   "metadata": {},
   "outputs": [],
   "source": [
    "data_kern.lw_q.mean(dim=['month', 'lon']).plot.contourf(levels=40, yincrease=False)"
   ]
  },
  {
   "cell_type": "markdown",
   "metadata": {},
   "source": [
    "## Preparing data for analysis"
   ]
  },
  {
   "cell_type": "markdown",
   "metadata": {},
   "source": [
    "Define a function for taking global averages:"
   ]
  },
  {
   "cell_type": "code",
   "execution_count": null,
   "metadata": {},
   "outputs": [],
   "source": [
    "def global_average(data):\n",
    "    weights = np.cos(np.deg2rad(data.lat))\n",
    "    data_weighted = data.weighted(weights)\n",
    "    return data_weighted.mean(dim=['lat', 'lon'], skipna=True)"
   ]
  },
  {
   "cell_type": "markdown",
   "metadata": {},
   "source": [
    "To get a general idea of how the climate changes in these runs, we can plot the 12-month rolling GMST for the two runs:"
   ]
  },
  {
   "cell_type": "code",
   "execution_count": null,
   "metadata": {},
   "outputs": [],
   "source": [
    "gmst_ctrl = global_average(ctrl.tas.rolling(time=12, center=True).mean())"
   ]
  },
  {
   "cell_type": "code",
   "execution_count": null,
   "metadata": {},
   "outputs": [],
   "source": [
    "gmst_ctrl.sel(time=slice('1150', '1200')).plot()"
   ]
  },
  {
   "cell_type": "code",
   "execution_count": null,
   "metadata": {},
   "outputs": [],
   "source": [
    "gmst_pert = global_average(pert.tas.rolling(time=12, center=True).mean())"
   ]
  },
  {
   "cell_type": "code",
   "execution_count": null,
   "metadata": {},
   "outputs": [],
   "source": [
    "gmst_pert.sel(time=slice('0949', '0999')).plot()"
   ]
  },
  {
   "cell_type": "markdown",
   "metadata": {},
   "source": [
    "### Calculating the two climate states\n",
    "\n",
    "Ideally, we would want to compare two equilibrated climates, but since that is usually not possible with standard-length CMIP experiments, we will simply use the monthly climatology over the last 50 years available for each run, which is close enough to equilibrium. The pressure coordinates are in Pa, so let's convert them to hPa to match the kernels:"
   ]
  },
  {
   "cell_type": "code",
   "execution_count": null,
   "metadata": {},
   "outputs": [],
   "source": [
    "ctrl_state = ctrl.sel(time=slice('1150', '1200')).groupby('time.month').mean(dim='time').squeeze()\n",
    "pert_state = pert.sel(time=slice('0949', '0999')).groupby('time.month').mean(dim='time').squeeze()\n",
    "\n",
    "ctrl_state['plev'] = ctrl_state['plev']/100\n",
    "pert_state['plev'] = pert_state['plev']/100"
   ]
  },
  {
   "cell_type": "code",
   "execution_count": null,
   "metadata": {},
   "outputs": [],
   "source": [
    "pert_state"
   ]
  },
  {
   "cell_type": "markdown",
   "metadata": {},
   "source": [
    "We will need the change in GMST in order to calculate the feedbacks:"
   ]
  },
  {
   "cell_type": "code",
   "execution_count": null,
   "metadata": {},
   "outputs": [],
   "source": [
    "dgmst = global_average(pert_state.tas - ctrl_state.tas).mean(dim='month')\n",
    "dgmst.load()"
   ]
  },
  {
   "cell_type": "markdown",
   "metadata": {},
   "source": [
    "### Regridding\n",
    "\n",
    "The model output and kernels are not on the same grid, so we will regrid the kernel dataset to the model's grid using the regridding package `xesmf`. For reusability, let's define a function to regrid data:"
   ]
  },
  {
   "cell_type": "code",
   "execution_count": null,
   "metadata": {},
   "outputs": [],
   "source": [
    "def regrid(ds_in, regrid_to, method='bilinear'):\n",
    "    regridder = xe.Regridder(ds_in, regrid_to, method=method, periodic=True, ignore_degenerate=True)\n",
    "    ds_out = regridder(ds_in)\n",
    "    return ds_out"
   ]
  },
  {
   "cell_type": "code",
   "execution_count": null,
   "metadata": {},
   "outputs": [],
   "source": [
    "regr_kernels = regrid(data_kern, pert_state)"
   ]
  },
  {
   "cell_type": "code",
   "execution_count": null,
   "metadata": {},
   "outputs": [],
   "source": [
    "regr_kernels"
   ]
  },
  {
   "cell_type": "markdown",
   "metadata": {},
   "source": [
    "Check that the kernels look as expected:"
   ]
  },
  {
   "cell_type": "code",
   "execution_count": null,
   "metadata": {},
   "outputs": [],
   "source": [
    "regr_kernels.sw_a.mean(dim='month').plot.contourf(levels=20)"
   ]
  },
  {
   "cell_type": "code",
   "execution_count": null,
   "metadata": {},
   "outputs": [],
   "source": [
    "regr_kernels.lw_q.mean(dim=['month', 'lon']).plot.contourf(levels=40, yincrease=False)"
   ]
  },
  {
   "cell_type": "code",
   "execution_count": null,
   "metadata": {},
   "outputs": [],
   "source": [
    "ctrl_state = ctrl_state.interp_like(regr_kernels, kwargs={\"fill_value\": \"extrapolate\"})\n",
    "pert_state = pert_state.interp_like(regr_kernels, kwargs={\"fill_value\": \"extrapolate\"})"
   ]
  },
  {
   "cell_type": "markdown",
   "metadata": {},
   "source": [
    "## Calculating feedbacks\n",
    "\n",
    "For all noncloud feedbacks, we will calculate both the all-sky and clear-sky (indicated by `clr` in the kernel dataset here) change in TOA radiation $\\Delta R$. For the clear-sky calculations, we just use the clear-sky version of the kernel in place of the all-sky kernel. The differences $\\Delta R^\\mathrm{clear}_X-\\Delta R^\\mathrm{all}_X$ for each feedback $X$ will be used later to adjust the CREs into proper cloud feedbacks.\n",
    "\n",
    "For the feedbacks involving fields that are a function of pressure (i.e., temperature and water vapor), we need to mask out the stratosphere. In this notebook, we will approximate this using a function that masks above 100 hPa at the equator and linearly decreases to 300 hPa at the poles:"
   ]
  },
  {
   "cell_type": "code",
   "execution_count": null,
   "metadata": {},
   "outputs": [],
   "source": [
    "def tropo_mask(ds):\n",
    "    return ds.where(ds.plev > ((200/90)*abs(ds.lat) + 100))"
   ]
  },
  {
   "cell_type": "markdown",
   "metadata": {},
   "source": [
    "Compare:"
   ]
  },
  {
   "cell_type": "code",
   "execution_count": null,
   "metadata": {},
   "outputs": [],
   "source": [
    "ctrl_state.ta.mean(dim=['month', 'lon']).plot(yincrease=False)"
   ]
  },
  {
   "cell_type": "code",
   "execution_count": null,
   "metadata": {},
   "outputs": [],
   "source": [
    "tropo_mask(ctrl_state.ta.mean(dim=['month', 'lon'])).plot(yincrease=False)"
   ]
  },
  {
   "cell_type": "markdown",
   "metadata": {},
   "source": [
    "### Surface albedo"
   ]
  },
  {
   "cell_type": "markdown",
   "metadata": {},
   "source": [
    "The first step is to calculate the change in albedo between the control and perturbed climates. The surface albedo $\\alpha$ is defined as the fraction of downwelling solar radiation at the surface that is reflected back up. That is,\n",
    "\n",
    "$$\\alpha=\\frac{S^\\uparrow_\\mathrm{s}}{S^\\downarrow_\\mathrm{s}}=\\frac{\\mathtt{rsus}}{\\mathtt{rsds}}$$"
   ]
  },
  {
   "cell_type": "code",
   "execution_count": null,
   "metadata": {},
   "outputs": [],
   "source": [
    "alb_ctrl = (ctrl_state.rsus/ctrl_state.rsds.where(ctrl_state.rsds > 0)).fillna(0)\n",
    "alb_pert = (pert_state.rsus/pert_state.rsds.where(ctrl_state.rsds > 0)).fillna(0)"
   ]
  },
  {
   "cell_type": "markdown",
   "metadata": {},
   "source": [
    "Note that we avoided dividing by zero by masking regions where `rsds` = 0 and filling in the resulting `nan`s with 0. Now, take the difference:"
   ]
  },
  {
   "cell_type": "code",
   "execution_count": null,
   "metadata": {},
   "outputs": [],
   "source": [
    "dalb = alb_pert - alb_ctrl"
   ]
  },
  {
   "cell_type": "code",
   "execution_count": null,
   "metadata": {},
   "outputs": [],
   "source": [
    "dalb.mean(dim='month').plot()"
   ]
  },
  {
   "cell_type": "markdown",
   "metadata": {},
   "source": [
    "By multiplying the change in albedo with the albedo kernel, we get the change in TOA radiation (in units W m$^{-2}$) resulting from that change in albedo:\n",
    "\n",
    "$$\\Delta R_\\alpha=K_\\alpha\\cdot\\Delta\\alpha$$\n",
    "\n",
    "We also need to multiply by 100 to get albedo as a percentage."
   ]
  },
  {
   "cell_type": "code",
   "execution_count": null,
   "metadata": {},
   "outputs": [],
   "source": [
    "dSW_alb = regr_kernels.sw_a * dalb * 100\n",
    "dSW_alb = dSW_alb.where(dSW_alb != float('-inf'), np.nan)\n",
    "dSW_alb_clr = regr_kernels.swclr_a * dalb * 100\n",
    "dSW_alb_clr = dSW_alb_clr.where(dSW_alb != float('-inf'), np.nan)"
   ]
  },
  {
   "cell_type": "code",
   "execution_count": null,
   "metadata": {},
   "outputs": [],
   "source": [
    "dSW_alb.mean(dim='month').plot()"
   ]
  },
  {
   "cell_type": "markdown",
   "metadata": {},
   "source": [
    "The feedback in units W m$^{-2}$ K$^{-1}$ is then calculated by normalizing this change in TOA radiation by the change in GMST:\n",
    "\n",
    "$$\\lambda_\\alpha=\\frac{\\Delta R_\\alpha}{\\Delta T_\\mathrm{s}}$$"
   ]
  },
  {
   "cell_type": "code",
   "execution_count": null,
   "metadata": {},
   "outputs": [],
   "source": [
    "alb_feedback = dSW_alb/dgmst"
   ]
  },
  {
   "cell_type": "code",
   "execution_count": null,
   "metadata": {},
   "outputs": [],
   "source": [
    "alb_feedback.mean(dim='month').plot()"
   ]
  },
  {
   "cell_type": "markdown",
   "metadata": {},
   "source": [
    "Taking the global and annual average, we get a final value of:"
   ]
  },
  {
   "cell_type": "code",
   "execution_count": null,
   "metadata": {},
   "outputs": [],
   "source": [
    "global_average(alb_feedback.mean(dim='month')).load()"
   ]
  },
  {
   "cell_type": "markdown",
   "metadata": {},
   "source": [
    "### Temperature\n",
    "\n",
    "The temperature feedback is decomposed into Planck and lapse rate feedbacks, but first, we can calculate the change in TOA LW radiation resulting from changes in surface (`ts`) and air (`ta`) temperature. The first step is calculating the changes in surface and air temperature. At the same time, we will interpolate `ta` to the kernel pressure levels:"
   ]
  },
  {
   "cell_type": "code",
   "execution_count": null,
   "metadata": {},
   "outputs": [],
   "source": [
    "dts = pert_state.ts - ctrl_state.ts\n",
    "dta = pert_state.ta - ctrl_state.ta"
   ]
  },
  {
   "cell_type": "markdown",
   "metadata": {},
   "source": [
    "Approximate layer thickness:"
   ]
  },
  {
   "cell_type": "code",
   "execution_count": null,
   "metadata": {},
   "outputs": [],
   "source": [
    "dp = -dta.plev.diff(dim='plev', label='lower')\n",
    "dp"
   ]
  },
  {
   "cell_type": "markdown",
   "metadata": {},
   "source": [
    "Then the change in TOA radiation using the kernels:\n",
    "\n",
    "$$\\Delta R_{T_\\mathrm{s}}=K_{T_\\mathrm{s}}\\cdot\\Delta T_\\mathrm{s}$$\n",
    "\n",
    "And for feedbacks that involve functions of pressure, we integrate (sum) over the pressure levels. These kernels have units W m$^{-2}$ K$^{-1}$ (100 hPa)$^{-1}$, so if $\\Delta p$ is in hPa, \n",
    "\n",
    "$$\\Delta R_T=\\sum_p K_T\\cdot\\Delta T\\cdot\\Delta p/100$$"
   ]
  },
  {
   "cell_type": "code",
   "execution_count": null,
   "metadata": {},
   "outputs": [],
   "source": [
    "dLW_ts = regr_kernels.lw_ts * dts\n",
    "dLW_ts_clr = regr_kernels.lwclr_ts * dts\n",
    "\n",
    "dLW_ta = (regr_kernels.lw_t * tropo_mask(dta) * dp/100).sum(dim='plev', skipna=True)\n",
    "dLW_ta_clr = (regr_kernels.lwclr_t * tropo_mask(dta) * dp/100).sum(dim='plev', skipna=True)"
   ]
  },
  {
   "cell_type": "code",
   "execution_count": null,
   "metadata": {},
   "outputs": [],
   "source": [
    "dLW_ts.mean(dim='month').plot()"
   ]
  },
  {
   "cell_type": "code",
   "execution_count": null,
   "metadata": {},
   "outputs": [],
   "source": [
    "dLW_ta.mean(dim='month').plot()"
   ]
  },
  {
   "cell_type": "markdown",
   "metadata": {},
   "source": [
    "The full temperature feedback is the sum of these, normalized by the change in GMST:\n",
    "\n",
    "$$\\lambda_T=\\frac{\\Delta R_{T_\\mathrm{s}}+\\Delta R_T}{\\Delta T_\\mathrm{s}}$$"
   ]
  },
  {
   "cell_type": "code",
   "execution_count": null,
   "metadata": {},
   "outputs": [],
   "source": [
    "t_feedback = (dLW_ta + dLW_ts)/dgmst"
   ]
  },
  {
   "cell_type": "code",
   "execution_count": null,
   "metadata": {},
   "outputs": [],
   "source": [
    "t_feedback.mean(dim='month').plot(cbar_kwargs={'label': 'W m$^{-2}$ K$^{-1}$'})"
   ]
  },
  {
   "cell_type": "markdown",
   "metadata": {},
   "source": [
    "For the annual and global average, we get in W m$^{-2}$ K$^{-1}$:"
   ]
  },
  {
   "cell_type": "code",
   "execution_count": null,
   "metadata": {},
   "outputs": [],
   "source": [
    "gm_t_feedback = global_average(t_feedback.mean(dim='month')).load()\n",
    "gm_t_feedback"
   ]
  },
  {
   "cell_type": "markdown",
   "metadata": {},
   "source": [
    "#### Planck\n",
    "\n",
    "There are two components to the Planck feedback:\n",
    "1. The change in TOA radiation due to the surface warming (calculated in the previous section)\n",
    "2. The change in TOA radiation due to a vertically-uniform warming\n",
    "\n",
    "We assume a vertically-uniform warming based on the surface temperature. To do this, project the surface warming into the vertical. One way to do this with Xarray is:"
   ]
  },
  {
   "cell_type": "code",
   "execution_count": null,
   "metadata": {},
   "outputs": [],
   "source": [
    "dts_3d = dts.expand_dims(dim={'plev': dta.plev})"
   ]
  },
  {
   "cell_type": "markdown",
   "metadata": {},
   "source": [
    "Check the vertical profile:"
   ]
  },
  {
   "cell_type": "code",
   "execution_count": null,
   "metadata": {},
   "outputs": [],
   "source": [
    "dts_3d.mean(dim=['month', 'lon']).plot(yincrease=False)"
   ]
  },
  {
   "cell_type": "code",
   "execution_count": null,
   "metadata": {},
   "outputs": [],
   "source": [
    "dLW_dts_3d = (regr_kernels.lw_t * tropo_mask(dts_3d) * dp/100).sum(dim='plev', skipna=True)"
   ]
  },
  {
   "cell_type": "markdown",
   "metadata": {},
   "source": [
    "The sum of the two components divided by the change in GMST is the Planck feedback:"
   ]
  },
  {
   "cell_type": "code",
   "execution_count": null,
   "metadata": {},
   "outputs": [],
   "source": [
    "planck_feedback = (dLW_ts + dLW_dts_3d)/dgmst"
   ]
  },
  {
   "cell_type": "code",
   "execution_count": null,
   "metadata": {},
   "outputs": [],
   "source": [
    "planck_feedback.mean(dim='month').plot(cbar_kwargs={'label': 'W m$^{-2}$ K$^{-1}$'})"
   ]
  },
  {
   "cell_type": "markdown",
   "metadata": {},
   "source": [
    "Annual and global average:"
   ]
  },
  {
   "cell_type": "code",
   "execution_count": null,
   "metadata": {
    "scrolled": true
   },
   "outputs": [],
   "source": [
    "gm_planck_feedback = global_average(planck_feedback.mean(dim='month')).load()\n",
    "gm_planck_feedback"
   ]
  },
  {
   "cell_type": "markdown",
   "metadata": {},
   "source": [
    "#### Lapse rate"
   ]
  },
  {
   "cell_type": "markdown",
   "metadata": {},
   "source": [
    "The lapse rate feedback is calculated using the vertically-nonuniform warming. To do this, we subtract the surface temperature change that we projected into the vertical from the air temperature change, also masking out the stratosphere:"
   ]
  },
  {
   "cell_type": "code",
   "execution_count": null,
   "metadata": {},
   "outputs": [],
   "source": [
    "dt_lapserate = tropo_mask(dta - dts_3d)"
   ]
  },
  {
   "cell_type": "code",
   "execution_count": null,
   "metadata": {},
   "outputs": [],
   "source": [
    "dt_lapserate"
   ]
  },
  {
   "cell_type": "markdown",
   "metadata": {},
   "source": [
    "Multiply by the LW temperature kernel and integrate over pressure:"
   ]
  },
  {
   "cell_type": "code",
   "execution_count": null,
   "metadata": {},
   "outputs": [],
   "source": [
    "dLW_lapserate = (regr_kernels.lw_t * tropo_mask(dt_lapserate) * dp/100).sum(dim='plev', skipna=True)"
   ]
  },
  {
   "cell_type": "markdown",
   "metadata": {},
   "source": [
    "Divide by change in GMST to get the feedback:"
   ]
  },
  {
   "cell_type": "code",
   "execution_count": null,
   "metadata": {},
   "outputs": [],
   "source": [
    "lapserate_feedback = dLW_lapserate/dgmst"
   ]
  },
  {
   "cell_type": "code",
   "execution_count": null,
   "metadata": {},
   "outputs": [],
   "source": [
    "lapserate_feedback.mean(dim='month').plot(cbar_kwargs={'label': 'W m$^{-2}$ K$^{-1}$'})"
   ]
  },
  {
   "cell_type": "markdown",
   "metadata": {},
   "source": [
    "Global average:"
   ]
  },
  {
   "cell_type": "code",
   "execution_count": null,
   "metadata": {},
   "outputs": [],
   "source": [
    "gm_lapserate_feedback = global_average(lapserate_feedback.mean(dim='month')).load()\n",
    "gm_lapserate_feedback"
   ]
  },
  {
   "cell_type": "markdown",
   "metadata": {},
   "source": [
    "The sum of the Planck and lapse rate feedbacks should equal the full temperature feedback we calculated first:\n",
    "$$\\lambda_{\\mathrm{Planck}}+\\lambda_{\\mathrm{LR}}\\approx\\lambda_T$$"
   ]
  },
  {
   "cell_type": "code",
   "execution_count": null,
   "metadata": {},
   "outputs": [],
   "source": [
    "(gm_planck_feedback + gm_lapserate_feedback).values, gm_t_feedback.values"
   ]
  },
  {
   "cell_type": "markdown",
   "metadata": {},
   "source": [
    "### Water vapor"
   ]
  },
  {
   "cell_type": "markdown",
   "metadata": {},
   "source": [
    "When calculating the water vapor feedbacks, it is common to use the log difference $\\Delta\\ln q=\\ln q_{\\mathrm{pert}}-\\ln q_{\\mathrm{ctrl}}$ instead of the linear difference $\\Delta q=q_{\\mathrm{pert}}-q_{\\mathrm{ctrl}}$. We also need to normalize the kernels by the log change in specific humidity per unit warming, $\\partial\\ln q/\\partial T$. First, we will define a function to calculate the saturation specific humidity (Buck 1981). Note that we want temperature in deg C and pressure in hPa for these formulas to work."
   ]
  },
  {
   "cell_type": "code",
   "execution_count": null,
   "metadata": {},
   "outputs": [],
   "source": [
    "def qs(t, p=None):\n",
    "    t = t - 273.15\n",
    "    # Get pressure in hPa\n",
    "    p = t.plev/100\n",
    "    \n",
    "    # Saturation vapor pressure (liquid and ice)\n",
    "    esl = (1.0007 + 3.46e-6 * p) * 6.1121 * np.exp((17.502 * t) / (240.97 + t))\n",
    "    esi = (1.0003 + 4.18e-6 * p) * 6.1115 * np.exp((22.452 * t) / (272.55 + t))\n",
    "\n",
    "    # Convert from vapor pressure to mixing ratio\n",
    "    wsl = 0.622*esl/(p - esl)\n",
    "    wsi = 0.622*esi/(p - esi)\n",
    "\n",
    "    # Use liquid water when temp is above freezing\n",
    "    ws = xr.where(t > 0, wsl, wsi)\n",
    "\n",
    "    # Convert to specific humidity\n",
    "    qs = ws/(1 + ws)\n",
    "\n",
    "    return qs"
   ]
  },
  {
   "cell_type": "markdown",
   "metadata": {},
   "source": [
    "We can use the $q$ and $T$ from the control and perturbed climates to approximate the normalization factor:"
   ]
  },
  {
   "cell_type": "code",
   "execution_count": null,
   "metadata": {},
   "outputs": [],
   "source": [
    "qs_ctrl = qs(ctrl_state.ta.squeeze())\n",
    "qs_pert = qs(pert_state.ta.squeeze())"
   ]
  },
  {
   "cell_type": "code",
   "execution_count": null,
   "metadata": {},
   "outputs": [],
   "source": [
    "dlnqdT = (np.log(qs_pert) - np.log(qs_ctrl))/(pert_state.ta.squeeze() - ctrl_state.ta.squeeze())"
   ]
  },
  {
   "cell_type": "code",
   "execution_count": null,
   "metadata": {},
   "outputs": [],
   "source": [
    "dlnqdT"
   ]
  },
  {
   "cell_type": "markdown",
   "metadata": {},
   "source": [
    "#### Shortwave water vapor"
   ]
  },
  {
   "cell_type": "code",
   "execution_count": null,
   "metadata": {},
   "outputs": [],
   "source": [
    "dlnq = np.log(pert_state.hus) - np.log(ctrl_state.hus)"
   ]
  },
  {
   "cell_type": "code",
   "execution_count": null,
   "metadata": {},
   "outputs": [],
   "source": [
    "dSW_q = (regr_kernels.sw_q/dlnqdT * dlnq * dp/100).sum(dim='plev')"
   ]
  },
  {
   "cell_type": "code",
   "execution_count": null,
   "metadata": {},
   "outputs": [],
   "source": [
    "dSW_q.mean(dim='month').plot()"
   ]
  },
  {
   "cell_type": "code",
   "execution_count": null,
   "metadata": {},
   "outputs": [],
   "source": [
    "swq_feedback = dSW_q/dgmst"
   ]
  },
  {
   "cell_type": "code",
   "execution_count": null,
   "metadata": {},
   "outputs": [],
   "source": [
    "swq_feedback.mean(dim='month').plot(cbar_kwargs={'label': 'W m$^{-2}$ K$^{-1}$'})"
   ]
  },
  {
   "cell_type": "code",
   "execution_count": null,
   "metadata": {},
   "outputs": [],
   "source": [
    "gm_swq_feedback = global_average(swq_feedback.mean(dim='month')).load()\n",
    "gm_swq_feedback"
   ]
  },
  {
   "cell_type": "markdown",
   "metadata": {},
   "source": [
    "#### Longwave water vapor"
   ]
  },
  {
   "cell_type": "code",
   "execution_count": null,
   "metadata": {},
   "outputs": [],
   "source": [
    "dLW_q = (regr_kernels.lw_q/dlnqdT * dlnq * dp/100).sum(dim='plev')\n",
    "lwq_feedback = dLW_q/dgmst"
   ]
  },
  {
   "cell_type": "code",
   "execution_count": null,
   "metadata": {},
   "outputs": [],
   "source": [
    "lwq_feedback.mean(dim='month').plot(cbar_kwargs={'label': 'W m$^{-2}$ K$^{-1}$'})"
   ]
  },
  {
   "cell_type": "code",
   "execution_count": null,
   "metadata": {},
   "outputs": [],
   "source": [
    "gm_lwq_feedback = global_average(lwq_feedback.mean(dim='month')).load()\n",
    "gm_lwq_feedback"
   ]
  },
  {
   "cell_type": "markdown",
   "metadata": {},
   "source": [
    "### Cloud"
   ]
  },
  {
   "cell_type": "markdown",
   "metadata": {},
   "source": [
    "We will use the Soden et al. (2008) adjustment method to estimate the cloud feedbacks."
   ]
  },
  {
   "cell_type": "markdown",
   "metadata": {},
   "source": [
    "#### Cloud radiative effect"
   ]
  },
  {
   "cell_type": "markdown",
   "metadata": {},
   "source": [
    "The cloud radiative effect (CRE) is the change in TOA radiation due to the existence of clouds, so it is the difference between all-sky and clear-sky net TOA radiation. We will use the convention that a positive CRE indicates a warming effect of clouds, and a negative CRE indicates a cooling effect of clouds. We therefore need to take note of the sign convention being used for the radiation. Here are the SW TOA radiation variables:"
   ]
  },
  {
   "cell_type": "code",
   "execution_count": null,
   "metadata": {},
   "outputs": [],
   "source": [
    "ctrl_state.rsut.mean(dim='month').plot(cbar_kwargs={'label': 'W m$^{-2}$'})"
   ]
  },
  {
   "cell_type": "markdown",
   "metadata": {},
   "source": [
    "Positive values for `rsut` indicate a positive-up convention. For SW we want to compute:\n",
    "$$ \\mathrm{SWCRE}=\\mathrm{Net}_{\\mathrm{all}}-\\mathrm{Net}_{\\mathrm{clear}}=(\\mathrm{Down}_{\\mathrm{all}}-\\mathrm{Up}_{\\mathrm{all}})-(\\mathrm{Down}_{\\mathrm{clear}}-\\mathrm{Up}_{\\mathrm{clear}})=-\\mathrm{Up}_{\\mathrm{all}}+\\mathrm{Up}_{\\mathrm{clear}}=-\\texttt{rsut}+\\texttt{rsutcs}$$\n",
    "where the \"Down\" terms cancel because clouds have no effect on insolation."
   ]
  },
  {
   "cell_type": "code",
   "execution_count": null,
   "metadata": {},
   "outputs": [],
   "source": [
    "ctrl_SWCRE = -ctrl_state.rsut + ctrl_state.rsutcs\n",
    "pert_SWCRE = -pert_state.rsut + pert_state.rsutcs\n",
    "dSWCRE = pert_SWCRE - ctrl_SWCRE"
   ]
  },
  {
   "cell_type": "markdown",
   "metadata": {},
   "source": [
    "Check the CRE to make sure the sign is correct:"
   ]
  },
  {
   "cell_type": "code",
   "execution_count": null,
   "metadata": {},
   "outputs": [],
   "source": [
    "ctrl_SWCRE.mean(dim='month').plot(cbar_kwargs={'label': 'W m$^{-2}$'})"
   ]
  },
  {
   "cell_type": "markdown",
   "metadata": {},
   "source": [
    "As expected, negative values indicate that on the SW side, clouds have a cooling effect. Here is the _change_ in SW CRE:"
   ]
  },
  {
   "cell_type": "code",
   "execution_count": null,
   "metadata": {},
   "outputs": [],
   "source": [
    "dSWCRE.mean(dim='month').plot(cbar_kwargs={'label': 'W m$^{-2}$'})"
   ]
  },
  {
   "cell_type": "markdown",
   "metadata": {},
   "source": [
    "There is reduced (low) cloud cover under the CO2 forcing, so we can interpret this as clouds cooling the planet less under CO2 forcing, implying a positive feedback. Next, the LW version, where we use TOA outgoing longwave radiation:"
   ]
  },
  {
   "cell_type": "code",
   "execution_count": null,
   "metadata": {},
   "outputs": [],
   "source": [
    "ctrl_state.rlut.mean(dim='month').plot(cbar_kwargs={'label': 'W m$^{-2}$'})"
   ]
  },
  {
   "cell_type": "markdown",
   "metadata": {},
   "source": [
    "Positive-up is also used for `rlut`, so the calculation is similar:\n",
    "$$ \\mathrm{LWCRE}=\\mathrm{Net}_{\\mathrm{all}}-\\mathrm{Net}_{\\mathrm{clear}}=(\\mathrm{Down}_{\\mathrm{all}}-\\mathrm{Up}_{\\mathrm{all}})-(\\mathrm{Down}_{\\mathrm{clear}}-\\mathrm{Up}_{\\mathrm{clear}})=-\\mathrm{Up}_{\\mathrm{all}}+\\mathrm{Up}_{\\mathrm{clear}}=-\\texttt{rlut}+\\texttt{rlutcs}$$\n",
    "where the \"Down\" terms here are just zero."
   ]
  },
  {
   "cell_type": "code",
   "execution_count": null,
   "metadata": {},
   "outputs": [],
   "source": [
    "ctrl_LWCRE = -(ctrl_state.rlut - ctrl_state.rlutcs)\n",
    "pert_LWCRE = -(pert_state.rlut - pert_state.rlutcs)\n",
    "dLWCRE = pert_LWCRE - ctrl_LWCRE"
   ]
  },
  {
   "cell_type": "code",
   "execution_count": null,
   "metadata": {},
   "outputs": [],
   "source": [
    "ctrl_LWCRE.mean(dim='month').plot(cbar_kwargs={'label': 'W m$^{-2}$'})"
   ]
  },
  {
   "cell_type": "markdown",
   "metadata": {},
   "source": [
    "On the LW side, clouds have a warming effect. Here is the change in LW CRE under the CO2 forcing:"
   ]
  },
  {
   "cell_type": "code",
   "execution_count": null,
   "metadata": {},
   "outputs": [],
   "source": [
    "dLWCRE.mean(dim='month').plot(cbar_kwargs={'label': 'W m$^{-2}$'})"
   ]
  },
  {
   "cell_type": "markdown",
   "metadata": {},
   "source": [
    "#### Adjusting CRE to get cloud feebacks"
   ]
  },
  {
   "cell_type": "markdown",
   "metadata": {},
   "source": [
    "CRE partially masks some non-cloud feedbacks, so CRE needs to be adjusted to account for this."
   ]
  },
  {
   "cell_type": "markdown",
   "metadata": {},
   "source": [
    ":::{attention}\n",
    "This section is under construction!\n",
    ":::"
   ]
  },
  {
   "cell_type": "markdown",
   "metadata": {},
   "source": [
    "### Plots"
   ]
  },
  {
   "cell_type": "code",
   "execution_count": null,
   "metadata": {},
   "outputs": [],
   "source": [
    "def add_cyclic_point(xarray_obj, dim='lon', period=360):\n",
    "    if period is None:\n",
    "        period = xarray_obj.sizes[dim] / xarray_obj.coords[dim][:2].diff(dim).item()\n",
    "    first_point = xarray_obj.isel({dim: slice(1)})\n",
    "    first_point.coords[dim] = first_point.coords[dim]+period\n",
    "    return xr.concat([xarray_obj, first_point], dim=dim)"
   ]
  },
  {
   "cell_type": "code",
   "execution_count": null,
   "metadata": {},
   "outputs": [],
   "source": [
    "ann_planck_feedback = planck_feedback.mean(dim='month').load()\n",
    "ann_lapserate_feedback = lapserate_feedback.mean(dim='month').load()\n",
    "ann_lwq_feedback = lwq_feedback.mean(dim='month').load()\n",
    "ann_swq_feedback = swq_feedback.mean(dim='month').load()"
   ]
  },
  {
   "cell_type": "code",
   "execution_count": null,
   "metadata": {},
   "outputs": [],
   "source": [
    "pc0 = ccrs.PlateCarree(central_longitude=0)\n",
    "pc180 = ccrs.PlateCarree(central_longitude=180)\n",
    "fig, axs = plt.subplots(2, 2, figsize=(11, 5), dpi=200, subplot_kw=dict(projection=pc180), layout='constrained')\n",
    "\n",
    "ann_planck_feedback.plot.contourf(ax=axs[0, 0], levels=21, cbar_kwargs=dict(label='W m$^{-2}$ K$^{-1}$'), transform=pc0, cmap='Blues_r')\n",
    "ann_lapserate_feedback.plot(ax=axs[0, 1], levels=21, cbar_kwargs=dict(label='W m$^{-2}$ K$^{-1}$'), transform=pc0)\n",
    "ann_swq_feedback.plot(ax=axs[1, 0], levels=21, cbar_kwargs=dict(label='W m$^{-2}$ K$^{-1}$'), transform=pc0, cmap='Reds')\n",
    "ann_lwq_feedback.plot(ax=axs[1, 1], levels=21, cbar_kwargs=dict(label='W m$^{-2}$ K$^{-1}$'), transform=pc0, cmap='Reds')\n",
    "\n",
    "for ax in axs.flatten():\n",
    "    ax.coastlines()\n",
    "\n",
    "axs[0, 0].set_title('Planck')\n",
    "axs[0, 1].set_title('Lapse rate')\n",
    "axs[1, 0].set_title('SW water vapor')\n",
    "axs[1, 1].set_title('LW water vapor')\n",
    "fig.suptitle('CESM2 radiative feedbacks (4xCO2 $-$ piControl; ERA5 kernels)', y=1.05)"
   ]
  },
  {
   "cell_type": "code",
   "execution_count": null,
   "metadata": {},
   "outputs": [],
   "source": [
    "ann_dSWCRE = dSWCRE.mean(dim='month').load()\n",
    "ann_dLWCRE = dLWCRE.mean(dim='month').load()"
   ]
  },
  {
   "cell_type": "code",
   "execution_count": null,
   "metadata": {},
   "outputs": [],
   "source": [
    "fig2, axs2 = plt.subplots(1, 2, figsize=(11, 2.5), dpi=200, subplot_kw=dict(projection=pc180), layout='constrained')\n",
    "\n",
    "ann_dSWCRE.plot.contourf(ax=axs2[0], levels=21, cbar_kwargs=dict(label='W m$^{-2}$'), transform=pc0)\n",
    "ann_dLWCRE.plot(ax=axs2[1], levels=21, cbar_kwargs=dict(label='W m$^{-2}$'), transform=pc0)\n",
    "\n",
    "for ax in axs2.flatten():\n",
    "    ax.coastlines()\n",
    "\n",
    "axs2[0].set_title('SW')\n",
    "axs2[1].set_title('LW')\n",
    "fig2.suptitle('CESM2 $\\\\Delta$CRE (4xCO2 $-$ piControl)', y=1.05)"
   ]
  },
  {
   "cell_type": "markdown",
   "metadata": {},
   "source": [
    "---"
   ]
  },
  {
   "cell_type": "markdown",
   "metadata": {},
   "source": [
    "## Summary\n",
    "\n",
    "### What's next?\n"
   ]
  },
  {
   "cell_type": "markdown",
   "metadata": {},
   "source": [
    "## Resources"
   ]
  }
 ],
 "metadata": {
  "kernelspec": {
   "display_name": "Python 3 (ipykernel)",
   "language": "python",
   "name": "python3"
  },
  "language_info": {
   "codemirror_mode": {
    "name": "ipython",
    "version": 3
   },
   "file_extension": ".py",
   "mimetype": "text/x-python",
   "name": "python",
   "nbconvert_exporter": "python",
   "pygments_lexer": "ipython3",
   "version": "3.13.5"
  },
  "nbdime-conflicts": {
   "local_diff": [
    {
     "diff": [
      {
       "diff": [
        {
         "key": 0,
         "op": "addrange",
         "valuelist": [
          "Python 3"
         ]
        },
        {
         "key": 0,
         "length": 1,
         "op": "removerange"
        }
       ],
       "key": "display_name",
       "op": "patch"
      }
     ],
     "key": "kernelspec",
     "op": "patch"
    }
   ],
   "remote_diff": [
    {
     "diff": [
      {
       "diff": [
        {
         "key": 0,
         "op": "addrange",
         "valuelist": [
          "Python3"
         ]
        },
        {
         "key": 0,
         "length": 1,
         "op": "removerange"
        }
       ],
       "key": "display_name",
       "op": "patch"
      }
     ],
     "key": "kernelspec",
     "op": "patch"
    }
   ]
  },
  "toc-autonumbering": false
 },
 "nbformat": 4,
 "nbformat_minor": 4
}
